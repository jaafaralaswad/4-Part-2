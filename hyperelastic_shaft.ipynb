{
 "cells": [
  {
   "cell_type": "markdown",
   "metadata": {},
   "source": [
    "# Hyperelastic shaft under rigid-body rotation"
   ]
  },
  {
   "cell_type": "markdown",
   "metadata": {},
   "source": [
    "Here we import the libraries required for defining and solving the problem."
   ]
  },
  {
   "cell_type": "code",
   "execution_count": 73,
   "metadata": {},
   "outputs": [],
   "source": [
    "# Import essential libraries for FEM using FEniCSx\n",
    "\n",
    "import numpy as np                     # Numerical computations\n",
    "import ufl                            # Unified Form Language for variational formulations\n",
    "\n",
    "from mpi4py import MPI                # MPI support for parallel computing\n",
    "from dolfinx import fem, io, nls      # FEniCSx interfaces for FEM, I/O, and nonlinear solvers\n",
    "import dolfinx.fem.petsc              # PETSc-based backend for assembling and solving systems\n",
    "import dolfinx.nls.petsc              # PETSc-based nonlinear solver support\n",
    "from dolfinx.mesh import create_box, CellType  # Mesh generation utilities\n",
    "\n",
    "from ufl import (                     # UFL tools for defining variational forms\n",
    "    as_matrix, dot, cos, sin, SpatialCoordinate,\n",
    "    Identity, grad, ln, tr, det, variable,\n",
    "    derivative, TestFunction, TrialFunction,\n",
    ")\n"
   ]
  },
  {
   "cell_type": "markdown",
   "metadata": {},
   "source": [
    "Then, we define the 3D mesh, finite element function space, and initialize the displacement field\n"
   ]
  },
  {
   "cell_type": "code",
   "execution_count": 74,
   "metadata": {},
   "outputs": [
    {
     "name": "stdout",
     "output_type": "stream",
     "text": [
      "Mesh topology dimension d=3.\n"
     ]
    }
   ],
   "source": [
    "# Define mesh parameters\n",
    "L = 10.0        # Length of the beam in the z-direction\n",
    "N = 1          # Number of elements in x and y directions\n",
    "\n",
    "# Create a structured hexahedral mesh in the domain [-0.5, 0.5] × [-0.5, 0.5] × [0, L]\n",
    "# with 5*N elements along the length for finer resolution in z\n",
    "mesh = create_box(\n",
    "    MPI.COMM_WORLD,\n",
    "    [[-0.5, -0.5, 0.0], [0.5, 0.5, L]],\n",
    "    [N, N, 5 * N],\n",
    "    CellType.hexahedron,\n",
    ")\n",
    "\n",
    "# Get the topological dimension of the mesh (should be 3 for a 3D mesh)\n",
    "dim = mesh.topology.dim\n",
    "print(f\"Mesh topology dimension d={dim}.\")\n",
    "\n",
    "# Define vector-valued function space of degree 1 Lagrange elements (\"P\", 1)\n",
    "# for 3D displacement field\n",
    "degree = 1\n",
    "shape = (dim,)\n",
    "V = fem.functionspace(mesh, (\"P\", degree, shape))\n",
    "\n",
    "# Initialize the displacement field as a Function on the space V\n",
    "u = fem.Function(V, name=\"Displacement\")\n"
   ]
  },
  {
   "cell_type": "markdown",
   "metadata": {},
   "source": [
    "Now, we define kinematics, material parameters, and Neo-Hookean strain energy function and compute the first Piola-Kirchhoff stress tensor.\n"
   ]
  },
  {
   "cell_type": "code",
   "execution_count": 75,
   "metadata": {},
   "outputs": [
    {
     "name": "stdout",
     "output_type": "stream",
     "text": [
      "d/d[var8(I + (grad(Displacement)))] ((-3 + (tr({ A | A_{i_{40}, i_{41}} = sum_{i_{42}} (var8(I + (grad(Displacement))))[i_{42}, i_{41}] * ((var8(I + (grad(Displacement))))^T)[i_{40}, i_{42}]  })) + -1 * 2 * ln(det(var8(I + (grad(Displacement)))))) * c_24 / 2 + c_25 / 2 * (-1 + (det(var8(I + (grad(Displacement)))))) ** 2)\n"
     ]
    }
   ],
   "source": [
    "# Identity tensor of appropriate dimension (3x3 for 3D problems)\n",
    "Id = Identity(dim)\n",
    "\n",
    "# Deformation gradient: F = I + ∇u (u is displacement field)\n",
    "F = variable(Id + grad(u))\n",
    "\n",
    "# Right Cauchy-Green deformation tensor: C = Fᵀ·F\n",
    "C = F.T * F\n",
    "\n",
    "# First invariant of C (trace of C)\n",
    "I1 = tr(C)\n",
    "\n",
    "# Jacobian determinant: J = det(F), measure of local volume change\n",
    "J = det(F)\n",
    "\n",
    "# Material parameters: Young's modulus E and Poisson's ratio nu\n",
    "E = 1e4\n",
    "nu = 0.4\n",
    "\n",
    "# Lame parameters: shear modulus μ and first Lame parameter λ\n",
    "mu = fem.Constant(mesh, E / (2 * (1 + nu)))  # μ = E / (2(1 + ν))\n",
    "lmbda = fem.Constant(mesh, E * nu / ((1 + nu) * (1 - 2 * nu)))  # λ = Eν / ((1 + ν)(1 - 2ν))\n",
    "\n",
    "# Compressible Neo-Hookean strain energy density function:\n",
    "# psi = μ/2 (I1 - 3 - 2 ln(J)) + λ/2 (J - 1)^2\n",
    "psi = mu / 2 * (I1 - 3 - 2 * ln(J)) + lmbda / 2 * (J - 1) ** 2\n",
    "\n",
    "# First Piola-Kirchhoff stress tensor: P = ∂ψ/∂F\n",
    "P = ufl.diff(psi, F)\n",
    "\n",
    "# Print symbolic expression of the PK1 stress for verification/debugging\n",
    "print(P)"
   ]
  },
  {
   "cell_type": "markdown",
   "metadata": {},
   "source": [
    "Subsequently, we mark bottom and top surfaces and apply Dirichlet boundary conditions.\n"
   ]
  },
  {
   "cell_type": "code",
   "execution_count": 76,
   "metadata": {},
   "outputs": [],
   "source": [
    "# Define geometric marker functions for the bottom and top surfaces\n",
    "# Bottom face: z = 0\n",
    "def bottom(x):\n",
    "    return np.isclose(x[2], 0.0)\n",
    "\n",
    "# Top face: z = L\n",
    "def top(x):\n",
    "    return np.isclose(x[2], L)\n",
    "\n",
    "# Locate degrees of freedom (DoFs) associated with the bottom and top surfaces\n",
    "bottom_dofs = fem.locate_dofs_geometrical(V, bottom)\n",
    "top_dofs = fem.locate_dofs_geometrical(V, top)\n",
    "\n",
    "# Define zero-valued displacement functions for bottom and top\n",
    "# These can be later updated (e.g. to impose rotation or displacement)\n",
    "u_bot = fem.Function(V)  # Displacement at bottom (typically fixed)\n",
    "u_top = fem.Function(V)  # Displacement at top (e.g., imposed loading or rotation)\n",
    "\n",
    "# Apply Dirichlet boundary conditions to both surfaces\n",
    "bcs = [\n",
    "    fem.dirichletbc(u_bot, bottom_dofs),  # Fix bottom face\n",
    "    fem.dirichletbc(u_top, top_dofs),     # Displacement-controlled top face\n",
    "]\n"
   ]
  },
  {
   "cell_type": "markdown",
   "metadata": {},
   "source": [
    "Then, we define rigid body rotation about the z-axis and interpolate it for top boundary displacement\n"
   ]
  },
  {
   "cell_type": "code",
   "execution_count": 77,
   "metadata": {},
   "outputs": [],
   "source": [
    "# Define spatial coordinate vector (symbolic variable x = [x, y, z])\n",
    "x = SpatialCoordinate(mesh)\n",
    "\n",
    "# Define rotation angle (in radians) as a time-varying constant\n",
    "theta = fem.Constant(mesh, 0.0)\n",
    "\n",
    "# Define rotation matrix about the z-axis by angle θ (standard 3D rotation matrix)\n",
    "Rot = as_matrix([\n",
    "    [cos(theta),  sin(theta), 0],\n",
    "    [-sin(theta), cos(theta), 0],\n",
    "    [0,           0,          1]\n",
    "])\n",
    "\n",
    "# Define displacement due to rotation: u_rot = R·x - x\n",
    "# This gives the vector field corresponding to rigid body rotation\n",
    "rotation_displ = dot(Rot, x) - x\n",
    "\n",
    "# Interpolate the symbolic displacement expression into a discrete FEM expression\n",
    "# This will be evaluated and applied to the top surface\n",
    "rot_expr = fem.Expression(rotation_displ, V.element.interpolation_points())"
   ]
  },
  {
   "cell_type": "markdown",
   "metadata": {},
   "source": [
    "After that, we define the total potential energy, residual, and Jacobian for the nonlinear variational problem\n"
   ]
  },
  {
   "cell_type": "code",
   "execution_count": 78,
   "metadata": {},
   "outputs": [],
   "source": [
    "# Define integration measure over the domain with specified quadrature degree\n",
    "dx = ufl.Measure(\"dx\", domain=mesh, metadata={\"quadrature_degree\": 4})\n",
    "\n",
    "# Define the total potential energy functional (integral of strain energy density)\n",
    "E_pot = psi * dx\n",
    "\n",
    "# Define test and trial functions for the variational formulation\n",
    "v = TestFunction(V)   # Virtual displacement (for residual)\n",
    "du = TrialFunction(V) # Incremental displacement (for Jacobian)\n",
    "\n",
    "# Define residual of the nonlinear system: R(u) = δΠ = d(E_pot)/d(u) · v\n",
    "# Equivalent to ∫ P : ∇v dx for hyperelasticity\n",
    "Residual = derivative(E_pot, u, v)\n",
    "\n",
    "# Define Jacobian of the residual (tangent stiffness matrix)\n",
    "# J(u) = d²(E_pot)/d(u)² · (du, v)\n",
    "Jacobian = derivative(Residual, u, du)"
   ]
  },
  {
   "cell_type": "markdown",
   "metadata": {},
   "source": [
    "Then, we set up the nonlinear problem and the Newton-Raphson solver with tolerances"
   ]
  },
  {
   "cell_type": "code",
   "execution_count": 79,
   "metadata": {},
   "outputs": [],
   "source": [
    "# Define the nonlinear variational problem: find u such that Residual(u) = 0\n",
    "# Applies Dirichlet boundary conditions through `bcs`\n",
    "problem = fem.petsc.NonlinearProblem(Residual, u, bcs)\n",
    "\n",
    "# Create a Newton-Raphson solver using PETSc\n",
    "solver = nls.petsc.NewtonSolver(mesh.comm, problem)\n",
    "\n",
    "# Set solver tolerances and convergence criterion\n",
    "solver.atol = 1e-4                         # Absolute tolerance\n",
    "solver.rtol = 1e-4                         # Relative tolerance\n",
    "solver.convergence_criterion = \"incremental\"  # Converges when update increment is small"
   ]
  },
  {
   "cell_type": "markdown",
   "metadata": {},
   "source": [
    "Fianlly, we rotate the beam incrementally, solve the nonlinear problem at each step, and record corner displacement."
   ]
  },
  {
   "cell_type": "code",
   "execution_count": 80,
   "metadata": {},
   "outputs": [
    {
     "name": "stdout",
     "output_type": "stream",
     "text": [
      "Time step 0, Number of iterations 5, Angle 18 deg.\n",
      "Time step 1, Number of iterations 6, Angle 36 deg.\n",
      "Time step 2, Number of iterations 7, Angle 54 deg.\n",
      "Time step 3, Number of iterations 7, Angle 72 deg.\n",
      "Time step 4, Number of iterations 7, Angle 90 deg.\n",
      "Time step 5, Number of iterations 7, Angle 108 deg.\n",
      "Time step 6, Number of iterations 7, Angle 126 deg.\n",
      "Time step 7, Number of iterations 7, Angle 144 deg.\n",
      "Time step 8, Number of iterations 7, Angle 162 deg.\n",
      "Time step 9, Number of iterations 6, Angle 180 deg.\n",
      "Time step 10, Number of iterations 6, Angle 198 deg.\n",
      "Time step 11, Number of iterations 6, Angle 216 deg.\n",
      "Time step 12, Number of iterations 6, Angle 234 deg.\n",
      "Time step 13, Number of iterations 6, Angle 252 deg.\n",
      "Time step 14, Number of iterations 6, Angle 270 deg.\n",
      "Time step 15, Number of iterations 6, Angle 288 deg.\n",
      "Time step 16, Number of iterations 6, Angle 306 deg.\n",
      "Time step 17, Number of iterations 5, Angle 324 deg.\n",
      "Time step 18, Number of iterations 5, Angle 342 deg.\n",
      "Time step 19, Number of iterations 5, Angle 360 deg.\n"
     ]
    }
   ],
   "source": [
    "# Define maximum rotation angle (full 360 degrees) and number of increments\n",
    "angle_max = 2 * np.pi\n",
    "Nsteps = 20\n",
    "\n",
    "# Output file for visualizing results in ParaView\n",
    "out_file = \"hyperelasticity.xdmf\"\n",
    "with io.XDMFFile(mesh.comm, out_file, \"w\") as xdmf:\n",
    "    xdmf.write_mesh(mesh)  # Write mesh once at the beginning\n",
    "\n",
    "# Define a top corner point (e.g., +x, +y, top z)\n",
    "corner_coords = np.array([0.5, 0.5, L])\n",
    "corner_index = np.argmin(np.linalg.norm(mesh.geometry.x - corner_coords, axis=1))\n",
    "\n",
    "# Initialize storage for plotting\n",
    "corner_displacements_x = []\n",
    "angles_deg = []\n",
    "\n",
    "# Initialize displacement field to zero\n",
    "u.x.array[:] = 0.0\n",
    "\n",
    "# Loop over time steps / rotation increments\n",
    "for n, angle in enumerate(np.linspace(0, angle_max, Nsteps + 1)[1:]):\n",
    "    # Update rotation angle\n",
    "    theta.value = angle\n",
    "\n",
    "    # Interpolate updated top displacement expression for current rotation\n",
    "    u_top.interpolate(rot_expr)\n",
    "\n",
    "    # Solve nonlinear system\n",
    "    num_its, converged = solver.solve(u)\n",
    "    assert converged  # Ensure solver convergence\n",
    "\n",
    "    # Synchronize ghost values (important for parallel runs)\n",
    "    u.x.scatter_forward()\n",
    "\n",
    "    # Record x-displacement at selected corner\n",
    "    u_corner = u.x.array.reshape(-1, 3)[corner_index]\n",
    "    corner_displacements_x.append(u_corner[0])  # x-component only\n",
    "    angles_deg.append(angle * 180 / np.pi)      # angle in degrees\n",
    "\n",
    "    # Log progress\n",
    "    print(\n",
    "        f\"Time step {n}, Number of iterations {num_its}, Angle {angle*180/np.pi:.0f} deg.\"\n",
    "    )\n",
    "\n",
    "    # Append current displacement solution to output file for visualization\n",
    "    with io.XDMFFile(mesh.comm, out_file, \"a\") as xdmf:\n",
    "        xdmf.write_function(u, n + 1)"
   ]
  },
  {
   "cell_type": "markdown",
   "metadata": {},
   "source": [
    "Here, we compare the analytical and numerical solutions."
   ]
  },
  {
   "cell_type": "code",
   "execution_count": 81,
   "metadata": {},
   "outputs": [
    {
     "data": {
      "image/png": "[encoded data removed]",
      "text/plain": [
       "<Figure size 640x480 with 1 Axes>"
      ]
     },
     "metadata": {},
     "output_type": "display_data"
    }
   ],
   "source": [
    "import matplotlib.pyplot as plt\n",
    "import numpy as np\n",
    "\n",
    "# --- Analytical curve over smooth angle range ---\n",
    "R = np.sqrt(0.5**2 + 0.5**2)         # Distance from rotation axis\n",
    "phi0 = np.arctan2(0.5, 0.5)          # Initial angle = 45°\n",
    "angles_smooth_deg = np.linspace(0, 360, 361)           # 0 to 360 degrees\n",
    "angles_smooth_rad = np.radians(angles_smooth_deg)\n",
    "analytical_dx = R * (np.cos(angles_smooth_rad - phi0) - np.cos(phi0))\n",
    "\n",
    "# --- Plot ---\n",
    "plt.figure()\n",
    "plt.plot(angles_deg, corner_displacements_x, marker=\"o\", label=\"FEM\")\n",
    "plt.plot(angles_smooth_deg, analytical_dx, linestyle=\"--\", color=\"orange\", label=\"Analytical\")\n",
    "plt.xlabel(\"Rotation angle (degrees)\")\n",
    "plt.ylabel(\"X-displacement of top corner (m)\")\n",
    "plt.title(\"Top Corner X-Displacement vs Rotation Angle\")\n",
    "plt.legend()\n",
    "plt.grid(True)\n",
    "plt.tight_layout()\n",
    "plt.show()\n"
   ]
  },
  {
   "cell_type": "markdown",
   "metadata": {},
   "source": [
    "## The convergence of the solution is demonstrated."
   ]
  },
  {
   "cell_type": "markdown",
   "metadata": {},
   "source": [
    "## The solver can fail if only too few increments are used."
   ]
  }
 ],
 "metadata": {
  "kernelspec": {
   "display_name": "Python 3",
   "language": "python",
   "name": "python3"
  },
  "language_info": {
   "codemirror_mode": {
    "name": "ipython",
    "version": 3
   },
   "file_extension": ".py",
   "mimetype": "text/x-python",
   "name": "python",
   "nbconvert_exporter": "python",
   "pygments_lexer": "ipython3",
   "version": "3.13.3"
  }
 },
 "nbformat": 4,
 "nbformat_minor": 2
}
